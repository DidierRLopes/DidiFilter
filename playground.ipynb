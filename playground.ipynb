{
 "cells": [
  {
   "cell_type": "code",
   "execution_count": 80,
   "metadata": {},
   "outputs": [
    {
     "name": "stdout",
     "output_type": "stream",
     "text": [
      "/Users/DidierRodriguesLopes/Documents/git/WhatMemeAmI/memes/1/changeMyMind.png\n",
      "/Users/DidierRodriguesLopes/Documents/git/WhatMemeAmI/memes/1/girlHouseOnFire.png\n",
      "/Users/DidierRodriguesLopes/Documents/git/WhatMemeAmI/memes/1/hideThePainHarold.png\n",
      "/Users/DidierRodriguesLopes/Documents/git/WhatMemeAmI/memes/1/keyAndPeel.png\n",
      "/Users/DidierRodriguesLopes/Documents/git/WhatMemeAmI/memes/1/leonardoDiCaprio.png\n",
      "/Users/DidierRodriguesLopes/Documents/git/WhatMemeAmI/memes/1/mockingSpongebob.png\n",
      "/Users/DidierRodriguesLopes/Documents/git/WhatMemeAmI/memes/1/monkey.png\n",
      "/Users/DidierRodriguesLopes/Documents/git/WhatMemeAmI/memes/1/oldLadyAtComputer.png\n",
      "/Users/DidierRodriguesLopes/Documents/git/WhatMemeAmI/memes/1/oneDoesNotSimply.png\n",
      "/Users/DidierRodriguesLopes/Documents/git/WhatMemeAmI/memes/1/skeleton.png\n",
      "/Users/DidierRodriguesLopes/Documents/git/WhatMemeAmI/memes/1/spongegar.png\n",
      "/Users/DidierRodriguesLopes/Documents/git/WhatMemeAmI/memes/1/twoButtons.png\n",
      "/Users/DidierRodriguesLopes/Documents/git/WhatMemeAmI/memes/2/batmanSlappingRobin1.png\n",
      "/Users/DidierRodriguesLopes/Documents/git/WhatMemeAmI/memes/2/batmanSlappingRobin2.png\n",
      "/Users/DidierRodriguesLopes/Documents/git/WhatMemeAmI/memes/2/drakeHotlineBing1.png\n",
      "/Users/DidierRodriguesLopes/Documents/git/WhatMemeAmI/memes/2/drakeHotlineBing2.png\n",
      "/Users/DidierRodriguesLopes/Documents/git/WhatMemeAmI/memes/3/distractedBoyfriend1.png\n",
      "/Users/DidierRodriguesLopes/Documents/git/WhatMemeAmI/memes/3/distractedBoyfriend2.png\n",
      "/Users/DidierRodriguesLopes/Documents/git/WhatMemeAmI/memes/3/distractedBoyfriend3.png\n",
      "/Users/DidierRodriguesLopes/Documents/git/WhatMemeAmI/memes/3/womanYellingCat1.png\n",
      "/Users/DidierRodriguesLopes/Documents/git/WhatMemeAmI/memes/3/womanYellingCat2.png\n",
      "/Users/DidierRodriguesLopes/Documents/git/WhatMemeAmI/memes/3/womanYellingCat3.png\n"
     ]
    }
   ],
   "source": [
    "import numpy as np\n",
    "import cv2\n",
    "import face_recognition\n",
    "import os\n",
    "import glob\n",
    "import random\n",
    "import time\n",
    "import sys, getopt\n",
    "\n",
    "dirname, filename = os.path.split(os.path.abspath('/Users/DidierRodriguesLopes/Documents/git/WhatMemeAmI/whatMemeAmI.py'))\n",
    "\n",
    "locationFolder = 'memes/'\n",
    "\n",
    "data = []\n",
    "dataPeopleEdges = [0]\n",
    "dataPeopleImages = []\n",
    "maxPeople = 3\n",
    "\n",
    "for i in np.arange(1, maxPeople+1):\n",
    "    dir_path = os.path.join(dirname+'/'+locationFolder+str(i)+'/','*g')\n",
    "    files_in_dir_path = glob.glob(dir_path)\n",
    "    \n",
    "    dataPeopleEdges.append(dataPeopleEdges[-1]+int(len(files_in_dir_path)))\n",
    "    dataPeopleImages.append(int(len(files_in_dir_path)/i))\n",
    "    \n",
    "    for fil in sorted(files_in_dir_path):\n",
    "        print(fil)\n",
    "        img_original = cv2.imread(fil)\n",
    "        img = cv2.resize(img_original, (1, 1))\n",
    "        data.append(img)"
   ]
  },
  {
   "cell_type": "code",
   "execution_count": 78,
   "metadata": {},
   "outputs": [
    {
     "data": {
      "text/plain": [
       "[12, 2, 2]"
      ]
     },
     "execution_count": 78,
     "metadata": {},
     "output_type": "execute_result"
    }
   ],
   "source": [
    "dataPeopleImages"
   ]
  },
  {
   "cell_type": "code",
   "execution_count": 63,
   "metadata": {},
   "outputs": [
    {
     "data": {
      "text/plain": [
       "12"
      ]
     },
     "execution_count": 63,
     "metadata": {},
     "output_type": "execute_result"
    }
   ],
   "source": [
    "len(glob.glob('/Users/DidierRodriguesLopes/Documents/git//WhatMemeAmI/memes/1/*g'))"
   ]
  },
  {
   "cell_type": "code",
   "execution_count": 5,
   "metadata": {},
   "outputs": [
    {
     "data": {
      "text/plain": [
       "array([ 0,  1,  2,  3,  4,  5,  6,  7,  8,  9, 10, 11, 12, 13, 14, 15, 16,\n",
       "       17, 18, 19, 20, 21])"
      ]
     },
     "execution_count": 5,
     "metadata": {},
     "output_type": "execute_result"
    }
   ],
   "source": [
    "dataPeopleEdges = [0, 12, 16, 22]\n",
    "dataPeopleImages = [12, 2, 2]\n",
    "\n",
    "import numpy as np\n",
    "array = np.arange(22)\n",
    "array"
   ]
  },
  {
   "cell_type": "code",
   "execution_count": 40,
   "metadata": {},
   "outputs": [],
   "source": [
    "faceLocations = [1, 2, 3]\n",
    "numFaces = len(faceLocations)\n",
    "#dataPeopleEdges[numFaces-1] + np.random.permutation(numFaces*dataPeopleImages[numFaces-1])\n",
    "\n",
    "#np.random.permutation(dataPeopleEdges[numFaces-1]:numFaces:dataPeopleEdges[numFaces])"
   ]
  },
  {
   "cell_type": "code",
   "execution_count": 44,
   "metadata": {},
   "outputs": [
    {
     "data": {
      "text/plain": [
       "array([16, 19])"
      ]
     },
     "execution_count": 44,
     "metadata": {},
     "output_type": "execute_result"
    }
   ],
   "source": [
    "np.random.permutation(np.arange(dataPeopleEdges[numFaces-1], dataPeopleEdges[numFaces], numFaces))"
   ]
  },
  {
   "cell_type": "code",
   "execution_count": 28,
   "metadata": {},
   "outputs": [
    {
     "data": {
      "text/plain": [
       "12"
      ]
     },
     "execution_count": 28,
     "metadata": {},
     "output_type": "execute_result"
    }
   ],
   "source": [
    "dataPeopleEdges[numFaces-1]"
   ]
  },
  {
   "cell_type": "code",
   "execution_count": 29,
   "metadata": {},
   "outputs": [
    {
     "data": {
      "text/plain": [
       "16"
      ]
     },
     "execution_count": 29,
     "metadata": {},
     "output_type": "execute_result"
    }
   ],
   "source": [
    "dataPeopleEdges[numFaces]"
   ]
  },
  {
   "cell_type": "code",
   "execution_count": 30,
   "metadata": {},
   "outputs": [
    {
     "data": {
      "text/plain": [
       "2"
      ]
     },
     "execution_count": 30,
     "metadata": {},
     "output_type": "execute_result"
    }
   ],
   "source": [
    "numFaces"
   ]
  },
  {
   "cell_type": "code",
   "execution_count": 33,
   "metadata": {},
   "outputs": [
    {
     "data": {
      "text/plain": [
       "array([12, 14])"
      ]
     },
     "execution_count": 33,
     "metadata": {},
     "output_type": "execute_result"
    }
   ],
   "source": [
    "np.arange(12, 16, 2)"
   ]
  },
  {
   "cell_type": "code",
   "execution_count": null,
   "metadata": {
    "collapsed": true
   },
   "outputs": [],
   "source": []
  }
 ],
 "metadata": {
  "kernelspec": {
   "display_name": "Python 3",
   "language": "python",
   "name": "python3"
  },
  "language_info": {
   "codemirror_mode": {
    "name": "ipython",
    "version": 3
   },
   "file_extension": ".py",
   "mimetype": "text/x-python",
   "name": "python",
   "nbconvert_exporter": "python",
   "pygments_lexer": "ipython3",
   "version": "3.6.8"
  }
 },
 "nbformat": 4,
 "nbformat_minor": 2
}
