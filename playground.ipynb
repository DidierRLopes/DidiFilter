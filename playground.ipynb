{
 "cells": [
  {
   "cell_type": "code",
   "execution_count": 80,
   "metadata": {},
   "outputs": [
    {
     "name": "stdout",
     "output_type": "stream",
     "text": [
      "/Users/DidierRodriguesLopes/Documents/git/WhatMemeAmI/memes/1/changeMyMind.png\n",
      "/Users/DidierRodriguesLopes/Documents/git/WhatMemeAmI/memes/1/girlHouseOnFire.png\n",
      "/Users/DidierRodriguesLopes/Documents/git/WhatMemeAmI/memes/1/hideThePainHarold.png\n",
      "/Users/DidierRodriguesLopes/Documents/git/WhatMemeAmI/memes/1/keyAndPeel.png\n",
      "/Users/DidierRodriguesLopes/Documents/git/WhatMemeAmI/memes/1/leonardoDiCaprio.png\n",
      "/Users/DidierRodriguesLopes/Documents/git/WhatMemeAmI/memes/1/mockingSpongebob.png\n",
      "/Users/DidierRodriguesLopes/Documents/git/WhatMemeAmI/memes/1/monkey.png\n",
      "/Users/DidierRodriguesLopes/Documents/git/WhatMemeAmI/memes/1/oldLadyAtComputer.png\n",
      "/Users/DidierRodriguesLopes/Documents/git/WhatMemeAmI/memes/1/oneDoesNotSimply.png\n",
      "/Users/DidierRodriguesLopes/Documents/git/WhatMemeAmI/memes/1/skeleton.png\n",
      "/Users/DidierRodriguesLopes/Documents/git/WhatMemeAmI/memes/1/spongegar.png\n",
      "/Users/DidierRodriguesLopes/Documents/git/WhatMemeAmI/memes/1/twoButtons.png\n",
      "/Users/DidierRodriguesLopes/Documents/git/WhatMemeAmI/memes/2/batmanSlappingRobin1.png\n",
      "/Users/DidierRodriguesLopes/Documents/git/WhatMemeAmI/memes/2/batmanSlappingRobin2.png\n",
      "/Users/DidierRodriguesLopes/Documents/git/WhatMemeAmI/memes/2/drakeHotlineBing1.png\n",
      "/Users/DidierRodriguesLopes/Documents/git/WhatMemeAmI/memes/2/drakeHotlineBing2.png\n",
      "/Users/DidierRodriguesLopes/Documents/git/WhatMemeAmI/memes/3/distractedBoyfriend1.png\n",
      "/Users/DidierRodriguesLopes/Documents/git/WhatMemeAmI/memes/3/distractedBoyfriend2.png\n",
      "/Users/DidierRodriguesLopes/Documents/git/WhatMemeAmI/memes/3/distractedBoyfriend3.png\n",
      "/Users/DidierRodriguesLopes/Documents/git/WhatMemeAmI/memes/3/womanYellingCat1.png\n",
      "/Users/DidierRodriguesLopes/Documents/git/WhatMemeAmI/memes/3/womanYellingCat2.png\n",
      "/Users/DidierRodriguesLopes/Documents/git/WhatMemeAmI/memes/3/womanYellingCat3.png\n"
     ]
    }
   ],
   "source": [
    "import numpy as np\n",
    "import cv2\n",
    "import face_recognition\n",
    "import os\n",
    "import glob\n",
    "import random\n",
    "import time\n",
    "import sys, getopt\n",
    "\n",
    "dirname, filename = os.path.split(os.path.abspath('/Users/DidierRodriguesLopes/Documents/git/WhatMemeAmI/whatMemeAmI.py'))\n",
    "\n",
    "locationFolder = 'memes/'\n",
    "\n",
    "data = []\n",
    "dataPeopleEdges = [0]\n",
    "dataPeopleImages = []\n",
    "maxPeople = 3\n",
    "\n",
    "for i in np.arange(1, maxPeople+1):\n",
    "    dir_path = os.path.join(dirname+'/'+locationFolder+str(i)+'/','*g')\n",
    "    files_in_dir_path = glob.glob(dir_path)\n",
    "    \n",
    "    dataPeopleEdges.append(dataPeopleEdges[-1]+int(len(files_in_dir_path)))\n",
    "    dataPeopleImages.append(int(len(files_in_dir_path)/i))\n",
    "    \n",
    "    for fil in sorted(files_in_dir_path):\n",
    "        print(fil)\n",
    "        img_original = cv2.imread(fil)\n",
    "        img = cv2.resize(img_original, (1, 1))\n",
    "        data.append(img)"
   ]
  },
  {
   "cell_type": "code",
   "execution_count": 78,
   "metadata": {},
   "outputs": [
    {
     "data": {
      "text/plain": [
       "[12, 2, 2]"
      ]
     },
     "execution_count": 78,
     "metadata": {},
     "output_type": "execute_result"
    }
   ],
   "source": [
    "dataPeopleImages"
   ]
  },
  {
   "cell_type": "code",
   "execution_count": 63,
   "metadata": {},
   "outputs": [
    {
     "data": {
      "text/plain": [
       "12"
      ]
     },
     "execution_count": 63,
     "metadata": {},
     "output_type": "execute_result"
    }
   ],
   "source": [
    "len(glob.glob('/Users/DidierRodriguesLopes/Documents/git//WhatMemeAmI/memes/1/*g'))"
   ]
  },
  {
   "cell_type": "code",
   "execution_count": 21,
   "metadata": {},
   "outputs": [
    {
     "data": {
      "text/plain": [
       "'/Users/DidierRodriguesLopes/Documents/git/WhatMemeAmI'"
      ]
     },
     "execution_count": 21,
     "metadata": {},
     "output_type": "execute_result"
    }
   ],
   "source": [
    "pwd"
   ]
  },
  {
   "cell_type": "code",
   "execution_count": null,
   "metadata": {
    "collapsed": true
   },
   "outputs": [],
   "source": []
  }
 ],
 "metadata": {
  "kernelspec": {
   "display_name": "Python 3",
   "language": "python",
   "name": "python3"
  },
  "language_info": {
   "codemirror_mode": {
    "name": "ipython",
    "version": 3
   },
   "file_extension": ".py",
   "mimetype": "text/x-python",
   "name": "python",
   "nbconvert_exporter": "python",
   "pygments_lexer": "ipython3",
   "version": "3.6.8"
  }
 },
 "nbformat": 4,
 "nbformat_minor": 2
}
